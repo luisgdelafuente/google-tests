{
 "cells": [
  {
   "cell_type": "code",
   "execution_count": null,
   "id": "d763dafa",
   "metadata": {},
   "outputs": [],
   "source": [
    "# this code will extract all taxonomies in the form of a mega-giga obfuscated dictionary. \n",
    "\n",
    "from pytrends.request import TrendReq\n",
    "\n",
    "# Create a TrendReq object\n",
    "pytrends = TrendReq(hl='en-US', tz=360)\n",
    "\n",
    "# Request the categories from Google Trends\n",
    "categories_dict = pytrends.categories()\n",
    "\n",
    "# Print the raw categories dictionary\n",
    "print(categories_dict)"
   ]
  },
  {
   "cell_type": "code",
   "execution_count": null,
   "id": "b4b1bbe4",
   "metadata": {},
   "outputs": [],
   "source": [
    "# This code takes a piece of the former dictionary and prints it to check structure and layout. \n",
    "\n",
    "categories = {'children': [{'children': [{'name': 'Celebrities & Entertainment News', 'id': 184}, {'children': [{'name': 'Animated Films', 'id': 1104}, {'name': 'Anime & Manga', 'id': 317}, {'name': 'Cartoons', 'id': 319}, {'name': 'Comics', 'id': 318}], 'name': 'Comics & Animation', 'id': 316}, {'children': [{'children': [{'name': 'Film & TV Awards', 'id': 1108}, {'name': 'Film & TV Production', 'id': 1117}], 'name': 'Film & TV Industry', 'id': 1116}, {'children': [{'name': 'Music Awards', 'id': 1113}, {'name': 'Record Labels', 'id': 1112}], 'name': 'Music Industry', 'id': 1111}], 'name': 'Film & Television', 'id': 1110}, {'name': 'Music', 'id': 184}], 'name': 'Arts & Entertainment', 'id': 119}]}\n",
    "\n",
    "def print_categories(categories, indent=0):\n",
    "    for category in categories:\n",
    "        print(\" \" * indent + category[\"name\"])\n",
    "        if \"children\" in category:\n",
    "            print_categories(category[\"children\"], indent + 2)\n",
    "\n",
    "# Print the hierarchy of categories\n",
    "print_categories(categories[\"children\"])\n"
   ]
  },
  {
   "cell_type": "code",
   "execution_count": null,
   "id": "d763dafa",
   "metadata": {},
   "outputs": [],
   "source": [
    "# This code finally takes the whole dictionary to print a list with about 1.400 categories. \n",
    "\n",
    "\n",
    "from pytrends.request import TrendReq\n",
    "\n",
    "# Create a TrendReq object\n",
    "pytrends = TrendReq(hl='en-US', tz=360)\n",
    "\n",
    "# Request the categories from Google Trends\n",
    "categories_dict = pytrends.categories()\n",
    "\n",
    "def print_categories(categories_dict, indent=0):\n",
    "    for category in categories_dict:\n",
    "        print(\" \" * indent + category[\"name\"])\n",
    "        if \"children\" in category:\n",
    "            print_categories(category[\"children\"], indent + 2)\n",
    "\n",
    "# Print the hierarchy of categories\n",
    "print_categories(categories_dict[\"children\"])\n"
   ]
  },
  {
   "cell_type": "code",
   "execution_count": 19,
   "id": "73bf5d53",
   "metadata": {},
   "outputs": [
    {
     "name": "stdout",
     "output_type": "stream",
     "text": [
      "Real Estate\n"
     ]
    }
   ],
   "source": [
    "from pytrends.request import TrendReq\n",
    "\n",
    "# Create a TrendReq object\n",
    "pytrends = TrendReq(hl='en-US', tz=360)\n",
    "\n",
    "def print_categories(categories_dict, indent=0):\n",
    "    for category in categories_dict:\n",
    "        if category[\"name\"] == \"Real Estate\":\n",
    "            print(\" \" * indent + category[\"name\"])\n",
    "            if \"children\" in category:\n",
    "                print_categories(category[\"children\"], indent + 2)\n",
    "        elif \"children\" in category:\n",
    "            print_categories(category[\"children\"], indent)\n",
    "\n",
    "# Request the categories from Google Trends\n",
    "categories_dict = pytrends.categories()\n",
    "\n",
    "# Print the subcategories of \"Real Estate\"\n",
    "print_categories(categories_dict[\"children\"])\n",
    "\n",
    "\n",
    "\n",
    "\n"
   ]
  }
 ],
 "metadata": {
  "kernelspec": {
   "display_name": "base",
   "language": "python",
   "name": "python3"
  },
  "language_info": {
   "codemirror_mode": {
    "name": "ipython",
    "version": 3
   },
   "file_extension": ".py",
   "mimetype": "text/x-python",
   "name": "python",
   "nbconvert_exporter": "python",
   "pygments_lexer": "ipython3",
   "version": "3.9.13 (main, Aug 25 2022, 23:51:50) [MSC v.1916 64 bit (AMD64)]"
  },
  "vscode": {
   "interpreter": {
    "hash": "83274c31c9221182fb1fe126cd0ae34f8001af217d374c7998aef38dd4f692b5"
   }
  }
 },
 "nbformat": 4,
 "nbformat_minor": 5
}
