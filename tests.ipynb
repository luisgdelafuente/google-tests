{
 "cells": [
  {
   "attachments": {},
   "cell_type": "markdown",
   "metadata": {},
   "source": [
    "Testing some scripts with Google Trends. \n",
    "- The objective of this task is to check how does pytrend work, and the most important methods. \n",
    "- Check how this is going to help the overall project. \n",
    "- Notice latest pytrends version will give quickly an excess error in Google, need to downgrade. "
   ]
  },
  {
   "cell_type": "code",
   "execution_count": null,
   "metadata": {},
   "outputs": [],
   "source": [
    "# quick test to check how pytrends works\n",
    "\n",
    "import pandas as pd\n",
    "from pytrends.request import TrendReq\n",
    "pytrend = TrendReq()\n",
    "\n",
    "# Get Google Keyword Suggestions\n",
    "keywords = pytrend.suggestions(keyword='restaurants')\n",
    "\n",
    "df = pd.DataFrame(keywords)\n",
    "\n",
    "df.head(10)"
   ]
  },
  {
   "cell_type": "code",
   "execution_count": null,
   "metadata": {},
   "outputs": [],
   "source": [
    "import pandas as pd\n",
    "from pytrends.request import TrendReq\n",
    "\n",
    "# Create an instance of the TrendReq class\n",
    "pytrend = TrendReq()\n",
    "\n",
    "# Get Google Related keywords\n",
    "pytrend.build_payload(kw_list=['restaurants'])\n",
    "related_queries = pytrend.related_topics()\n",
    "\n",
    "# Get the top 10 related keywords\n",
    "related_queries = related_queries['restaurants']['top']\n",
    "\n",
    "# Create a DataFrame with the related keywords\n",
    "df = pd.DataFrame(related_queries)\n",
    "\n",
    "# Show the top 10 related keywords\n",
    "df = df.head(10)\n",
    "df\n"
   ]
  },
  {
   "cell_type": "code",
   "execution_count": null,
   "metadata": {},
   "outputs": [],
   "source": [
    "import pandas as pd\n",
    "from pytrends.request import TrendReq\n",
    "\n",
    "# Create an instance of the TrendReq class\n",
    "pytrend = TrendReq()\n",
    "\n",
    "# Build the payload\n",
    "pytrend.build_payload(kw_list=['restaurants'])\n",
    "\n",
    "# Get the related queries\n",
    "related_queries = pytrend.related_queries()\n",
    "\n",
    "# Get the related queries for the keyword 'restaurants'\n",
    "related_queries = related_queries['restaurants']['top']\n",
    "\n",
    "# Create a DataFrame with the related queries\n",
    "df = pd.DataFrame(related_queries)\n",
    "\n",
    "# Show the related queries\n",
    "df.head(10)\n",
    "\n"
   ]
  },
  {
   "cell_type": "code",
   "execution_count": null,
   "metadata": {},
   "outputs": [],
   "source": [
    "# Create payload and capture API tokens. \n",
    "# Only needed for interest_over_time(), interest_by_region() & related_queries()\n",
    "pytrend.build_payload(kw_list=['pizza', 'sushi'])\n",
    "\n",
    "# Interest Over Time\n",
    "interest_over_time_df = pytrend.interest_over_time()\n",
    "print(interest_over_time_df.head())\n"
   ]
  },
  {
   "cell_type": "code",
   "execution_count": null,
   "metadata": {},
   "outputs": [],
   "source": [
    "# Create payload and capture API tokens. Only needed for interest_over_time(), interest_by_region() & related_queries()\n",
    "pytrend.build_payload(kw_list=['pizza', 'bagel'])\n",
    "\n",
    "# Interest by Region\n",
    "interest_by_region_df = pytrend.interest_by_region()\n",
    "\n",
    "print(interest_by_region_df.head(50))\n"
   ]
  },
  {
   "cell_type": "code",
   "execution_count": null,
   "metadata": {},
   "outputs": [],
   "source": [
    "import pandas as pd\n",
    "from pytrends.request import TrendReq\n",
    "pytrend = TrendReq()\n",
    "\n",
    "# Create payload and capture API tokens. Only needed for interest_over_time(), interest_by_region() & related_queries()\n",
    "pytrend.build_payload(kw_list=['sushi'])\n",
    "\n",
    "# Related Queries, returns a dictionary of dataframes\n",
    "related_queries_dict = pytrend.related_queries()\n",
    "\n",
    "top_df = pd.DataFrame(related_queries_dict['marketing para']['top'])\n",
    "rising_df = pd.DataFrame(related_queries_dict['marketing para']['rising'])\n",
    "\n",
    "print(top_df)\n",
    "\n",
    "print(rising_df)\n",
    "\n"
   ]
  },
  {
   "cell_type": "code",
   "execution_count": 4,
   "metadata": {},
   "outputs": [
    {
     "name": "stdout",
     "output_type": "stream",
     "text": [
      "0                     auxilio emergencial para empresas\n",
      "1                                              pronampe\n",
      "2                 melhores empresas para trabalhar 2019\n",
      "3              protocolos de bioseguridad para empresas\n",
      "4                                               gympass\n",
      "5                            medellin me cuida empresas\n",
      "6                                           territorium\n",
      "7     um profissional experiente de 45 anos decidiu ...\n",
      "8     em uma empresa, um funcionário teve a oportuni...\n",
      "9                                         colaborar ava\n",
      "10                                  ifood para empresas\n",
      "11                   empresas de limpieza para dejar cv\n",
      "12                                              brainly\n",
      "13                                  bizum para empresas\n",
      "14             material de oficina barato para empresas\n",
      "15    falar em público é uma tarefa complexa. lembra...\n",
      "16                       ajuda do governo para empresas\n",
      "17    vamos mapear as empresas transnacionais para i...\n",
      "18                                               nubank\n",
      "19                                 nubank para empresas\n",
      "20                    catalogo de nombres para empresas\n",
      "21                                                 ecac\n",
      "22                               whatsapp para empresas\n",
      "23                             empréstimo para empresas\n",
      "24                                    marketing digital\n",
      "Name: query, dtype: object\n"
     ]
    }
   ],
   "source": [
    "from pytrends.request import TrendReq\n",
    "import pandas as pd\n",
    "\n",
    "pytrend = TrendReq()\n",
    "keyword = 'para empresas'\n",
    "\n",
    "pytrend.build_payload(kw_list=[keyword])\n",
    "related_queries = pytrend.related_queries()\n",
    "\n",
    "df = pd.DataFrame(related_queries.get(keyword).get('rising'))\n",
    "    \n",
    "print(df['query'])"
   ]
  },
  {
   "cell_type": "code",
   "execution_count": 48,
   "metadata": {},
   "outputs": [],
   "source": [
    "from pytrends.request import TrendReq\n",
    "\n",
    "requests_args = {\n",
    "    'headers': {\n",
    "        'User-Agent': 'Mozilla/5.0 (Windows NT 10.0; Win64; x64) AppleWebKit/537.36 (KHTML, like Gecko) Chrome/109.0.5414.74 Safari/537.36'\n",
    "    }\n",
    "}\n",
    "\n",
    "pytrend = TrendReq(requests_args=requests_args)\n"
   ]
  }
 ],
 "metadata": {
  "kernelspec": {
   "display_name": "base",
   "language": "python",
   "name": "python3"
  },
  "language_info": {
   "codemirror_mode": {
    "name": "ipython",
    "version": 3
   },
   "file_extension": ".py",
   "mimetype": "text/x-python",
   "name": "python",
   "nbconvert_exporter": "python",
   "pygments_lexer": "ipython3",
   "version": "3.9.13"
  },
  "orig_nbformat": 4,
  "vscode": {
   "interpreter": {
    "hash": "83274c31c9221182fb1fe126cd0ae34f8001af217d374c7998aef38dd4f692b5"
   }
  }
 },
 "nbformat": 4,
 "nbformat_minor": 2
}
