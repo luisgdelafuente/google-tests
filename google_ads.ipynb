{
 "cells": [
  {
   "attachments": {},
   "cell_type": "markdown",
   "metadata": {},
   "source": [
    "- GOOGLE ADS \n",
    "- We are going to play with Google Ads statistics in here. \n",
    "- Some ideas: https://www.danielherediamejias.com/python-keyword-planner-google-ads-api/"
   ]
  }
 ],
 "metadata": {
  "kernelspec": {
   "display_name": "base",
   "language": "python",
   "name": "python3"
  },
  "language_info": {
   "codemirror_mode": {
    "name": "ipython",
    "version": 3
   },
   "file_extension": ".py",
   "mimetype": "text/x-python",
   "name": "python",
   "nbconvert_exporter": "python",
   "pygments_lexer": "ipython3",
   "version": "3.9.13"
  },
  "orig_nbformat": 4,
  "vscode": {
   "interpreter": {
    "hash": "83274c31c9221182fb1fe126cd0ae34f8001af217d374c7998aef38dd4f692b5"
   }
  }
 },
 "nbformat": 4,
 "nbformat_minor": 2
}
