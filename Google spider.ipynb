{
 "cells": [
  {
   "attachments": {},
   "cell_type": "markdown",
   "metadata": {},
   "source": [
    "- Deploy this google scrapping roadmap\n",
    "- https://dev.to/dmitryzub/scrape-google-organic-search-with-python-3hp5\n"
   ]
  },
  {
   "cell_type": "code",
   "execution_count": null,
   "metadata": {},
   "outputs": [],
   "source": [
    "import os, requests, json\n",
    "\n",
    "from ecommercetools import seo\n",
    "\n",
    "df = seo.get_serps(\"videos explicativos\",domain=\"google.es\", pages=5, host_language=\"es\")\n",
    "\n",
    "df.title"
   ]
  },
  {
   "cell_type": "code",
   "execution_count": null,
   "metadata": {},
   "outputs": [],
   "source": [
    "from ecommercetools import seo\n",
    "\n",
    "suggestions = seo.google_autocomplete(\"videos para empresas\", results = 10,include_expanded=False)\n",
    "print(suggestions)\n",
    "\n",
    "#suggestions = seo.google_autocomplete(\"videos corporativos\", include_expanded=True)\n",
    "# print(suggestions)"
   ]
  },
  {
   "cell_type": "code",
   "execution_count": null,
   "metadata": {},
   "outputs": [],
   "source": [
    "# Scrapping Google´s suggestions\n",
    "# https://dev.to/dmitryzub/scrape-google-autocomplete-suggestion-with-python-3cgb\n",
    "\n",
    "\n",
    "import requests, json\n",
    "\n",
    "headers = {\n",
    "    \"User-Agent\":\n",
    "    \"Mozilla/5.0 (Windows NT 10.0; Win64; x64) AppleWebKit/537.36 (KHTML, like Gecko) Chrome/70.0.3538.102 Safari/537.36 Edge/18.19582\"\n",
    "}\n",
    "# client param could be replaced with firefox or other browser\n",
    "response = requests.get('http://google.es/complete/search?client=chrome&q=video marketing para', headers=headers)\n",
    "for result in json.loads(response.text)[1]:\n",
    "    print(result)\n"
   ]
  },
  {
   "cell_type": "code",
   "execution_count": null,
   "metadata": {},
   "outputs": [],
   "source": [
    "import requests, lxml\n",
    "from bs4 import BeautifulSoup\n",
    "\n",
    "\n",
    "headers = {\n",
    "    \"User-Agent\":\n",
    "    \"Mozilla/5.0 (Windows NT 10.0; Win64; x64) AppleWebKit/537.36 (KHTML, like Gecko) Chrome/70.0.3538.102 Safari/537.36 Edge/18.19582\"\n",
    "}\n",
    "\n",
    "params = {\n",
    "    \"q\": \"apple\",\n",
    "    \"hl\": \"en\",\n",
    "}\n",
    "\n",
    "html = requests.get('http://google.es/complete/search?client=chrome&q=video marketing para')\n",
    "soup = BeautifulSoup(html.text, 'lxml')\n",
    "\n",
    "title = None\n",
    "link = None\n",
    "displayed_link = None\n",
    "snippet = None\n",
    "\n",
    "\n",
    "# container with all needed data\n",
    "for result in soup.select('.tF2Cxc'):\n",
    "    title = result.select_one('.LC20lb').text\n",
    "    link = result.select_one('.yuRUbf a')['href']\n",
    "    displayed_link = result.select_one('.TbwUpd.NJjxre').text\n",
    "    snippet = result.select_one('#rso .lyLwlc').text\n",
    "    break  # use break to only get the first search result\n",
    "\n",
    "print(\"Title:\", title)\n",
    "print(\"Link:\", link)\n",
    "print(\"Displayed Link:\", displayed_link)\n",
    "print(\"Snippet:\", snippet)\n",
    "\n",
    "\n",
    "# inline sitelinks\n",
    "for i in soup.select('.HiHjCd a'):\n",
    "    print(i.text)\n",
    "\n",
    "# expanded sitelinks\n",
    "for t in soup.select('.usJj9c'):\n",
    "    text = t.select_one('.r').text\n",
    "    text_link = t.select_one('.r a')['href']\n",
    "    snippet = t.select_one('.st').text\n",
    "\n",
    "    print(f'{text}\\n{text_link}\\n{snippet}\\n')\n",
    "    \n"
   ]
  },
  {
   "cell_type": "code",
   "execution_count": null,
   "metadata": {},
   "outputs": [],
   "source": []
  }
 ],
 "metadata": {
  "kernelspec": {
   "display_name": "base",
   "language": "python",
   "name": "python3"
  },
  "language_info": {
   "codemirror_mode": {
    "name": "ipython",
    "version": 3
   },
   "file_extension": ".py",
   "mimetype": "text/x-python",
   "name": "python",
   "nbconvert_exporter": "python",
   "pygments_lexer": "ipython3",
   "version": "3.9.13"
  },
  "orig_nbformat": 4,
  "vscode": {
   "interpreter": {
    "hash": "83274c31c9221182fb1fe126cd0ae34f8001af217d374c7998aef38dd4f692b5"
   }
  }
 },
 "nbformat": 4,
 "nbformat_minor": 2
}
